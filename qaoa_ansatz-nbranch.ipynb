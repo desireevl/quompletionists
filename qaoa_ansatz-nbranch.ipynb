{
 "cells": [
  {
   "cell_type": "code",
   "execution_count": 1,
   "metadata": {},
   "outputs": [],
   "source": [
    "# !pip install git+https://github.com/XanaduAI/pennylane.git@prob_fn"
   ]
  },
  {
   "cell_type": "code",
   "execution_count": 2,
   "metadata": {},
   "outputs": [],
   "source": [
    "import pennylane as qml\n",
    "from variational_notebooks.entangler import get_entangler_map\n",
    "from pennylane import numpy as np\n",
    "from pennylane.optimize import GradientDescentOptimizer\n",
    "from pennylane.beta import prob\n",
    "\n",
    "\n",
    "from data_loader import *"
   ]
  },
  {
   "cell_type": "code",
   "execution_count": 3,
   "metadata": {},
   "outputs": [],
   "source": [
    "idx_array = []\n",
    "X = []\n",
    "Y = []\n",
    "\n",
    "for idx, ((i, j), x, y) in enumerate(test_celeb_face_loader):\n",
    "    idx_array.append((i, j))\n",
    "    X.append(x.tolist())\n",
    "    Y.append(y.item())\n",
    "    "
   ]
  },
  {
   "cell_type": "code",
   "execution_count": 4,
   "metadata": {},
   "outputs": [
    {
     "data": {
      "text/plain": [
       "5"
      ]
     },
     "execution_count": 4,
     "metadata": {},
     "output_type": "execute_result"
    }
   ],
   "source": [
    "X = X[:5]\n",
    "Y = Y[:5]\n",
    "\n",
    "len(Y)"
   ]
  },
  {
   "cell_type": "code",
   "execution_count": 5,
   "metadata": {},
   "outputs": [],
   "source": [
    "n_wires = 9\n",
    "n_qubits_readout = 8\n",
    "dev = qml.device(\"default.qubit\", wires=n_wires)\n",
    "\n",
    "graph = get_entangler_map()"
   ]
  },
  {
   "cell_type": "code",
   "execution_count": 6,
   "metadata": {},
   "outputs": [],
   "source": [
    "nb_layer_application = 3"
   ]
  },
  {
   "cell_type": "code",
   "execution_count": 7,
   "metadata": {},
   "outputs": [],
   "source": [
    "# Initializing observable\n",
    "# diagonal = np.array(range(2**n_qubits_readout))\n",
    "# avg_observable = np.zeros((2**n_qubits_readout, 2**n_qubits_readout))\n",
    "# np.fill_diagonal(avg_observable, diagonal)\n",
    "bitstring_values = list(range(2**n_qubits_readout))"
   ]
  },
  {
   "cell_type": "code",
   "execution_count": 8,
   "metadata": {},
   "outputs": [],
   "source": [
    "@qml.qnode(dev)\n",
    "def quantum_completer(weights, x=None):\n",
    "    \n",
    "    for i in range(nb_layer_application):\n",
    "    \n",
    "        encoding(x)\n",
    "        variational_circuit(weights[2*i],weights[2*i+1])\n",
    "\n",
    "    return prob(wires=list(range(n_qubits_readout))) "
   ]
  },
  {
   "cell_type": "code",
   "execution_count": 9,
   "metadata": {},
   "outputs": [],
   "source": [
    "# feature map \n",
    "# parameters should be of the form params = np.random.uniform(size=(num_layers, num_qubits, 3))\n",
    "\n",
    "def encoding(x):\n",
    "    for wire in range(n_wires // 3):\n",
    "        qml.Rot(*x[3*wire: 3*(wire+1)], wires=[wire])     #Encode three features in each qubit"
   ]
  },
  {
   "cell_type": "code",
   "execution_count": 10,
   "metadata": {},
   "outputs": [],
   "source": [
    "# QAOA ansatz definition\n",
    "# unitary operator U_B with parameter beta\n",
    "def U_B(beta):\n",
    "    for wire in range(n_wires):\n",
    "        qml.RX(2 * beta, wires=wire)\n",
    "\n",
    "# unitary operator U_C with parameter gamma\n",
    "def U_C(gamma):\n",
    "    for wire_pair in graph:\n",
    "        qml.CNOT(wires=[wire_pair[0], wire_pair[1]])\n",
    "        qml.RZ(2*gamma, wires=wire_pair[1])\n",
    "        qml.CNOT(wires=[wire_pair[0], wire_pair[1]])\n",
    "        \n",
    "def variational_circuit(gamma,beta):\n",
    "\n",
    "    U_C(gamma)\n",
    "    U_B(beta)"
   ]
  },
  {
   "cell_type": "code",
   "execution_count": 11,
   "metadata": {},
   "outputs": [],
   "source": [
    "def loss(labels, predictions):\n",
    "    return np.sum([(label - prediction)**2 for label, prediction in zip(labels, predictions)])\n",
    "\n",
    "def cost(weights, X, Y):\n",
    "    predictions = [np.mean(quantum_completer(weights, x=x) * bitstring_values) / 255. for x in X]\n",
    "    return loss(Y, predictions)"
   ]
  },
  {
   "cell_type": "code",
   "execution_count": 12,
   "metadata": {},
   "outputs": [
    {
     "name": "stdout",
     "output_type": "stream",
     "text": [
      "Iter:     1 | Cost: 0.1682559 \n",
      "Iter:     2 | Cost: 0.1681385 \n",
      "Iter:     3 | Cost: 0.1680148 \n",
      "CPU times: user 1min 49s, sys: 219 ms, total: 1min 49s\n",
      "Wall time: 1min 41s\n"
     ]
    }
   ],
   "source": [
    "%%time\n",
    "# Define optimizer. \n",
    "opt = GradientDescentOptimizer(stepsize=0.4)\n",
    "\n",
    "# Setup initial weights and number of optimization steps.\n",
    "weights = np.random.random(2*nb_layer_application) \n",
    "steps = 30\n",
    "\n",
    "# Optimizing the loss-function.\n",
    "for it in range(3):\n",
    "    # Update the weights by one optimizer step\n",
    "    weights = opt.step(lambda v: cost(v, X, Y), weights)\n",
    "    \n",
    "    print(\"Iter: {:5d} | Cost: {:0.7f} \".format(it + 1, cost(weights, X, Y)))"
   ]
  },
  {
   "cell_type": "code",
   "execution_count": null,
   "metadata": {},
   "outputs": [],
   "source": []
  },
  {
   "cell_type": "code",
   "execution_count": null,
   "metadata": {},
   "outputs": [],
   "source": []
  }
 ],
 "metadata": {
  "kernelspec": {
   "display_name": "Python [conda env:pennylane]",
   "language": "python",
   "name": "conda-env-pennylane-py"
  },
  "language_info": {
   "codemirror_mode": {
    "name": "ipython",
    "version": 3
   },
   "file_extension": ".py",
   "mimetype": "text/x-python",
   "name": "python",
   "nbconvert_exporter": "python",
   "pygments_lexer": "ipython3",
   "version": "3.7.4"
  }
 },
 "nbformat": 4,
 "nbformat_minor": 2
}
