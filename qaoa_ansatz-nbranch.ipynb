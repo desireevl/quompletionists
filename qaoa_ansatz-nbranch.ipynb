{
 "cells": [
  {
   "cell_type": "code",
   "execution_count": 1,
   "metadata": {},
   "outputs": [],
   "source": [
    "# !pip install git+https://github.com/XanaduAI/pennylane.git@prob_fn"
   ]
  },
  {
   "cell_type": "code",
   "execution_count": 2,
   "metadata": {},
   "outputs": [],
   "source": [
    "import pennylane as qml\n",
    "from variational_notebooks.entangler import get_entangler_map\n",
    "from pennylane import numpy as np\n",
    "from pennylane.optimize import GradientDescentOptimizer,NesterovMomentumOptimizer\n",
    "from pennylane.beta import prob\n",
    "\n",
    "\n",
    "from data_loader import *\n"
   ]
  },
  {
   "cell_type": "code",
   "execution_count": 3,
   "metadata": {},
   "outputs": [],
   "source": [
    "idx_array = []\n",
    "X = []\n",
    "Y = []\n",
    "labels = []\n",
    "crops = []\n",
    "sources = []\n",
    "        \n",
    "for idx, ((i, j), train, target, label, source, (cropX, cropY)) in enumerate(train_fashion_loader):\n",
    "    \n",
    "    idx_array.append((i, j))\n",
    "    X.append(train.tolist())\n",
    "    Y.append(target.item())\n",
    "    labels.append(label.item())\n",
    "    crops.append((cropX, cropY))\n",
    "    \n",
    "    sources.append(source)"
   ]
  },
  {
   "cell_type": "code",
   "execution_count": 35,
   "metadata": {},
   "outputs": [],
   "source": [
    "shirts_inds = [i for i in range(len(labels)) if labels[i]==6]\n",
    "train_inds = shirts_inds[:100]\n",
    "tests_inds = shirts_inds[100:200]\n",
    "\n",
    "X_train = [X[i] for i in train_inds]\n",
    "Y_train = [Y[i] for i in train_inds]\n",
    "\n",
    "X_test = [X[i] for i in tests_inds]\n",
    "Y_test = [Y[i] for i in tests_inds]\n",
    "\n",
    "crops_test = [crops[i] for i in tests_inds]\n",
    "sources_test = [sources[i] for i in tests_inds]"
   ]
  },
  {
   "cell_type": "code",
   "execution_count": 33,
   "metadata": {},
   "outputs": [
    {
     "data": {
      "text/plain": [
       "(100, 100)"
      ]
     },
     "execution_count": 33,
     "metadata": {},
     "output_type": "execute_result"
    }
   ],
   "source": [
    "len(Y_train),len(Y_test)"
   ]
  },
  {
   "cell_type": "code",
   "execution_count": 6,
   "metadata": {},
   "outputs": [],
   "source": [
    "n_wires = 9\n",
    "n_qubits_readout = 8\n",
    "dev = qml.device(\"default.qubit\", wires=n_wires)\n",
    "\n",
    "graph = get_entangler_map()"
   ]
  },
  {
   "cell_type": "code",
   "execution_count": 7,
   "metadata": {},
   "outputs": [],
   "source": [
    "nb_layer_application = 3"
   ]
  },
  {
   "cell_type": "code",
   "execution_count": 8,
   "metadata": {},
   "outputs": [],
   "source": [
    "# Initializing observable\n",
    "# diagonal = np.array(range(2**n_qubits_readout))\n",
    "# avg_observable = np.zeros((2**n_qubits_readout, 2**n_qubits_readout))\n",
    "# np.fill_diagonal(avg_observable, diagonal)\n",
    "bitstring_values = list(range(2**n_qubits_readout))"
   ]
  },
  {
   "cell_type": "code",
   "execution_count": 9,
   "metadata": {},
   "outputs": [],
   "source": [
    "@qml.qnode(dev)\n",
    "def quantum_completer(weights, x=None):\n",
    "    \n",
    "    for i in range(nb_layer_application):\n",
    "    \n",
    "        encoding(x)\n",
    "        variational_circuit(weights[2*i],weights[2*i+1])\n",
    "\n",
    "    return prob(wires=list(range(n_qubits_readout))) "
   ]
  },
  {
   "cell_type": "code",
   "execution_count": 10,
   "metadata": {},
   "outputs": [],
   "source": [
    "# feature map \n",
    "# parameters should be of the form params = np.random.uniform(size=(num_layers, num_qubits, 3))\n",
    "\n",
    "def encoding(x):\n",
    "    for wire in range(n_wires // 3):\n",
    "        qml.Rot(*x[3*wire: 3*(wire+1)], wires=[wire])     #Encode three features in each qubit"
   ]
  },
  {
   "cell_type": "code",
   "execution_count": 11,
   "metadata": {},
   "outputs": [],
   "source": [
    "# QAOA ansatz definition\n",
    "# unitary operator U_B with parameter beta\n",
    "def U_B(beta):\n",
    "    for wire in range(n_wires):\n",
    "        qml.RX(2 * beta, wires=wire)\n",
    "\n",
    "# unitary operator U_C with parameter gamma\n",
    "def U_C(gamma):\n",
    "    for wire_pair in graph:\n",
    "        qml.CNOT(wires=[wire_pair[0], wire_pair[1]])\n",
    "        qml.RZ(2*gamma, wires=wire_pair[1])\n",
    "        qml.CNOT(wires=[wire_pair[0], wire_pair[1]])\n",
    "        \n",
    "def variational_circuit(gamma,beta):\n",
    "\n",
    "    U_C(gamma)\n",
    "    U_B(beta)"
   ]
  },
  {
   "cell_type": "code",
   "execution_count": 12,
   "metadata": {},
   "outputs": [],
   "source": [
    "def loss(labels, predictions):\n",
    "    return np.mean([(label - prediction)**2 for label, prediction in zip(labels, predictions)])\n",
    "\n",
    "def cost(weights, X, Y):\n",
    "    predictions = [np.mean(quantum_completer(weights, x=x) * bitstring_values) / 255. for x in X]\n",
    "    return loss(Y, predictions)"
   ]
  },
  {
   "cell_type": "code",
   "execution_count": 13,
   "metadata": {},
   "outputs": [],
   "source": [
    "def predict(X):\n",
    "    return [np.mean(quantum_completer(weights, x=x) * bitstring_values) / 255. for x in X]"
   ]
  },
  {
   "cell_type": "code",
   "execution_count": 14,
   "metadata": {},
   "outputs": [
    {
     "name": "stdout",
     "output_type": "stream",
     "text": [
      "CPU times: user 0 ns, sys: 0 ns, total: 0 ns\n",
      "Wall time: 57.9 µs\n"
     ]
    }
   ],
   "source": [
    "%%time\n",
    "# Define optimizer. \n",
    "opt = NesterovMomentumOptimizer(stepsize=0.4)\n",
    "batch_size = 10\n",
    "\n",
    "# Setup initial weights and number of optimization steps.\n",
    "weights = np.random.random(2*nb_layer_application) \n",
    "steps = 3\n",
    "\n",
    "# Optimizing the loss-function.\n",
    "for it in range(steps):\n",
    "    # Update the weights by one optimizer step\n",
    "    batch_index = np.random.randint(0, len(X_train), (batch_size,))\n",
    "    X_batch = [X_train[i] for i in batch_index]\n",
    "    Y_batch = [Y_train[i] for i in batch_index]\n",
    "    weights = opt.step(lambda v: cost(v, X_batch, Y_batch), weights)\n",
    "    \n",
    "    print(\"Iter: {:5d} | Cost: {:0.7f} \".format(it + 1, cost(weights, X_train, Y_train)))"
   ]
  },
  {
   "cell_type": "code",
   "execution_count": 15,
   "metadata": {},
   "outputs": [],
   "source": [
    "Y_hat_test = predict(X_test)"
   ]
  },
  {
   "cell_type": "code",
   "execution_count": 16,
   "metadata": {},
   "outputs": [
    {
     "data": {
      "text/plain": [
       "0.3073781276450712"
      ]
     },
     "execution_count": 16,
     "metadata": {},
     "output_type": "execute_result"
    }
   ],
   "source": [
    "loss(Y_test, Y_hat_test)"
   ]
  },
  {
   "cell_type": "code",
   "execution_count": 37,
   "metadata": {},
   "outputs": [
    {
     "data": {
      "image/png": "[encoded data removed]",
      "text/plain": [
       "<Figure size 432x288 with 1 Axes>"
      ]
     },
     "metadata": {
      "needs_background": "light"
     },
     "output_type": "display_data"
    }
   ],
   "source": [
    "ind_example = 0\n",
    "\n",
    "X_test_example = X_test[ind_example]\n",
    "source_test_example = np.array(sources_test[ind_example].tolist())\n",
    "cropX, cropY = crops_test[ind_example]\n",
    "\n",
    "new_window_values = np.array(X_test_example).reshape(3, 3)\n",
    "# source_test_example[cropY:cropY+3, cropX:cropX+3] = new_window_values\n",
    "\n",
    "fig = plt.figure()\n",
    "ax = fig.add_subplot(111)\n",
    "rect = patches.Rectangle((cropX-1, cropY-1),4,4,linewidth=1,edgecolor='r',facecolor='none')\n",
    "ax.add_patch(rect)\n",
    "ax.imshow(source_test_example, cmap=plt.cm.gray, vmin=0, vmax=1)\n",
    "fig.savefig(f'./images/full_{idx}.png')\n",
    "\n",
    "source_test_example[cropY:cropY+3, cropX:cropX+3] = new_window_values\n",
    "\n",
    "fig = plt.figure()\n",
    "ax = fig.add_subplot(111)\n",
    "rect = patches.Rectangle((cropX-1, cropY-1),4,4,linewidth=1,edgecolor='r',facecolor='none')\n",
    "ax.add_patch(rect)\n",
    "ax.imshow(source_test_example, cmap=plt.cm.gray, vmin=0, vmax=1)\n",
    "fig.savefig(f'./images/full_{idx}_crop.png')"
   ]
  },
  {
   "cell_type": "code",
   "execution_count": null,
   "metadata": {},
   "outputs": [],
   "source": []
  }
 ],
 "metadata": {
  "kernelspec": {
   "display_name": "Python [conda env:pennylane]",
   "language": "python",
   "name": "conda-env-pennylane-py"
  },
  "language_info": {
   "codemirror_mode": {
    "name": "ipython",
    "version": 3
   },
   "file_extension": ".py",
   "mimetype": "text/x-python",
   "name": "python",
   "nbconvert_exporter": "python",
   "pygments_lexer": "ipython3",
   "version": "3.7.4"
  }
 },
 "nbformat": 4,
 "nbformat_minor": 2
}
