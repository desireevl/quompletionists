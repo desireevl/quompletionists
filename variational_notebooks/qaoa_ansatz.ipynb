{
 "cells": [
  {
   "cell_type": "code",
   "execution_count": null,
   "metadata": {},
   "outputs": [],
   "source": [
    "import pennylane as qml\n",
    "from entangler import get_entangler_map\n",
    "from pennylane import numpy as np\n",
    "from pennylane.optimize import GradientDescentOptimizer"
   ]
  },
  {
   "cell_type": "code",
   "execution_count": null,
   "metadata": {},
   "outputs": [],
   "source": [
    "n_wires = 8\n",
    "n_weights = 3\n",
    "dev = qml.device(\"default.qubit\", wires=n_wires)\n",
    "\n",
    "graph = get_entangler_map"
   ]
  },
  {
   "cell_type": "code",
   "execution_count": null,
   "metadata": {},
   "outputs": [],
   "source": [
    "nb_layer_application = 3"
   ]
  },
  {
   "cell_type": "code",
   "execution_count": null,
   "metadata": {},
   "outputs": [],
   "source": [
    "@qml.qnode(dev)\n",
    "def circuit(weights, x=None):\n",
    "    \n",
    "    for i in range(nb_layer_application):\n",
    "    \n",
    "        circuit_feature_map(x)\n",
    "        variational_circuit(weights[2*i:2*i+1])\n",
    "\n",
    "    # Initializing observable\n",
    "    diagonal = np.array(range(2**n_wires))\n",
    "    avg_observable = np.zeros((2**n_wires, 2**n_wires))\n",
    "    np.fill_diagonal(avg_observable, diagonal)\n",
    "\n",
    "    return qml.expval(qml.Hermitian(avg_observable, list(range(n_wires))))"
   ]
  },
  {
   "cell_type": "code",
   "execution_count": null,
   "metadata": {},
   "outputs": [],
   "source": [
    "# QAOA ansatz definition\n",
    "# unitary operator U_B with parameter beta\n",
    "def U_B(beta):\n",
    "    for wire in range(n_wires):\n",
    "        qml.RX(2 * beta, wires=wire)\n",
    "\n",
    "# unitary operator U_C with parameter gamma\n",
    "def U_C(gamma):\n",
    "    for wire_pair in graph:\n",
    "        qml.CNOT(wires=[wire_pair[0], wire_pair[1]])\n",
    "        qml.RZ(gamma, wires=wire_pair[1])\n",
    "        qml.CNOT(wires=[wire_pair[0], wire_pair[1]])\n",
    "        \n",
    "def variational_circuit(weights):\n",
    "    U_B(weights[0])\n",
    "    U_C(weights[1])"
   ]
  },
  {
   "cell_type": "code",
   "execution_count": null,
   "metadata": {},
   "outputs": [],
   "source": [
    "def loss(labels, predictions):\n",
    "    return np.sum([(label - prediction)**2 for label, prediction in zip(labels, predictions)])\n",
    "\n",
    "def cost(weights, X, Y):\n",
    "    predictions = [circuit(weights, x=x) for x in X]\n",
    "    return loss(Y, predictions)"
   ]
  },
  {
   "cell_type": "code",
   "execution_count": null,
   "metadata": {},
   "outputs": [],
   "source": [
    "# Generate data\n",
    "X = [[0,0], [1,1], [2,2]]\n",
    "Y = [0, 1, 2]"
   ]
  },
  {
   "cell_type": "code",
   "execution_count": null,
   "metadata": {},
   "outputs": [],
   "source": [
    "# Define optimizer. \n",
    "opt = GradientDescentOptimizer(stepsize=0.4)\n",
    "\n",
    "# Setup initial weights and number of optimization steps.\n",
    "weights = np.random.random(n_weights) * ( 2*np.pi )\n",
    "steps = 300\n",
    "\n",
    "# Optimizing the loss-function.\n",
    "for it in range(steps):\n",
    "    # Update the weights by one optimizer step\n",
    "    weights = opt.step(lambda v: cost(v, X, Y), weights)"
   ]
  },
  {
   "cell_type": "code",
   "execution_count": null,
   "metadata": {},
   "outputs": [],
   "source": []
  }
 ],
 "metadata": {
  "kernelspec": {
   "display_name": "Python 3",
   "language": "python",
   "name": "python3"
  },
  "language_info": {
   "codemirror_mode": {
    "name": "ipython",
    "version": 3
   },
   "file_extension": ".py",
   "mimetype": "text/x-python",
   "name": "python",
   "nbconvert_exporter": "python",
   "pygments_lexer": "ipython3",
   "version": "3.6.7"
  }
 },
 "nbformat": 4,
 "nbformat_minor": 2
}
