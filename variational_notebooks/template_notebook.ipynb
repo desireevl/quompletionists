{
 "cells": [
  {
   "cell_type": "code",
   "execution_count": null,
   "metadata": {},
   "outputs": [],
   "source": [
    "import pennylane as qml\n",
    "from pennylane import numpy as np\n",
    "from pennylane.optimize import GradientDescentOptimizer"
   ]
  },
  {
   "cell_type": "code",
   "execution_count": null,
   "metadata": {},
   "outputs": [],
   "source": [
    "n_wires = 8\n",
    "n_weights = 3\n",
    "dev = qml.device(\"default.qubit\", wires=n_wires)"
   ]
  },
  {
   "cell_type": "code",
   "execution_count": null,
   "metadata": {},
   "outputs": [],
   "source": [
    "nb_layer_application = 3"
   ]
  },
  {
   "cell_type": "code",
   "execution_count": null,
   "metadata": {},
   "outputs": [],
   "source": [
    "@qml.qnode(dev)\n",
    "def circuit(weights, x=None):\n",
    "    \n",
    "    for _ in range(nb_layer_application):\n",
    "    \n",
    "        circuit_feature_map(x,expansion)\n",
    "        variational_circuit(weights)\n",
    "  \n",
    "    # Initializing observable\n",
    "    diagonal = np.array(range(2**n_wires))\n",
    "    avg_observable = np.zeros((2**n_wires, 2**n_wires))\n",
    "    np.fill_diagonal(avg_observable, diagonal)\n",
    "\n",
    "    return qml.expval(qml.Hermitian(avg_observable, list(range(n_wires))))"
   ]
  },
  {
   "cell_type": "code",
   "execution_count": null,
   "metadata": {},
   "outputs": [],
   "source": [
    "def loss(labels, predictions):\n",
    "    return np.sum([(label - prediction)**2 for label, prediction in zip(labels, predictions)])\n",
    "\n",
    "def cost(weights, X, Y):\n",
    "    predictions = [circuit(weights, x=x) for x in X]\n",
    "    return loss(Y, predictions)"
   ]
  },
  {
   "cell_type": "code",
   "execution_count": null,
   "metadata": {},
   "outputs": [],
   "source": [
    "# Generate data\n",
    "X = [[0,0], [1,1], [2,2]]\n",
    "Y = [0, 1, 2]"
   ]
  },
  {
   "cell_type": "code",
   "execution_count": null,
   "metadata": {},
   "outputs": [],
   "source": [
    "# Define optimizer. \n",
    "opt = GradientDescentOptimizer(stepsize=0.4)\n",
    "\n",
    "# Setup initial weights and number of optimization steps.\n",
    "weights = np.random.random(n_weights) * ( 2*np.pi )\n",
    "steps = 300\n",
    "\n",
    "# Optimizing the loss-function.\n",
    "for it in range(steps):\n",
    "    # Update the weights by one optimizer step\n",
    "    weights = opt.step(lambda v: cost(v, X, Y), weights)"
   ]
  },
  {
   "cell_type": "code",
   "execution_count": null,
   "metadata": {},
   "outputs": [],
   "source": []
  }
 ],
 "metadata": {
  "kernelspec": {
   "display_name": "Python [conda env:pennylane]",
   "language": "python",
   "name": "conda-env-pennylane-py"
  },
  "language_info": {
   "codemirror_mode": {
    "name": "ipython",
    "version": 3
   },
   "file_extension": ".py",
   "mimetype": "text/x-python",
   "name": "python",
   "nbconvert_exporter": "python",
   "pygments_lexer": "ipython3",
   "version": "3.7.4"
  }
 },
 "nbformat": 4,
 "nbformat_minor": 2
}
